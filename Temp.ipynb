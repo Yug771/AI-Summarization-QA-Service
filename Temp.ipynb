{
 "cells": [
  {
   "cell_type": "code",
   "execution_count": 9,
   "metadata": {},
   "outputs": [],
   "source": [
    "import os\n",
    "from decouple import config\n",
    "from langchain.document_loaders import TextLoader\n",
    "from langchain.vectorstores import FAISS\n",
    "from langchain_openai import OpenAIEmbeddings\n",
    "from langchain.docstore.document import Document\n",
    "import faiss\n",
    "from langchain.docstore import InMemoryDocstore\n",
    "from langchain_text_splitters import TokenTextSplitter\n",
    "from langchain.docstore.document import Document\n",
    "from langchain.chains.combine_documents.stuff import StuffDocumentsChain\n",
    "from langchain.chains.llm import LLMChain\n",
    "from langchain_core.prompts import PromptTemplate\n",
    "from langchain_openai import ChatOpenAI\n",
    "from dotenv import load_dotenv\n",
    "load_dotenv()\n",
    "\n",
    "os.environ['OPENAI_API_KEY']=config(\"OPENAI_API_KEY\")\n",
    "\n",
    "# Sample text\n",
    "text = \"\"\"\n",
    "Retrieval-Augmented Generation (RAG) is a powerful approach for question answering systems. \n",
    "It combines the strengths of retrieval-based and generation-based methods to provide accurate and informative answers. \n",
    "Retrieval-Augmented Generation (RAG) is a powerful approach for question answering systems. \n",
    "It combirovide accurate and informative answers.Retrieval-Augmented Generation (RAG) is a powerful approach for question answering systems. \n",
    "It combine methods to provide accurate and informative answers.Retrieval-Augmented Generation (RAG) is a powerful approach for question answering systems. \n",
    "It combines the strengtive ansnswers.Retrieval-Augmented Generation (RAG) is a powerful approach for question answering systems. \n",
    "It combines the strengths of retrieval-based and genemative answers.Retrieval-Augmented Generation (RAG) is a powerful approach for question answering systems. \n",
    "It combines the strengths of retrieval-based and generation-based methods to provide accurate and informative answers.Retrieval-Augmented Generation (RAG) is a powerful approach for question answering systems. \n",
    "It combines the strengths of retrieval-based and generation-based methods to provide accurate and informative answers.\"\"\"\n",
    "\n"
   ]
  },
  {
   "cell_type": "code",
   "execution_count": 10,
   "metadata": {},
   "outputs": [
    {
     "name": "stdout",
     "output_type": "stream",
     "text": [
      "2\n"
     ]
    }
   ],
   "source": [
    "from langchain.docstore.document import Document\n",
    "from langchain.text_splitter import CharacterTextSplitter,TokenTextSplitter\n",
    "\n",
    "\n",
    "text_splitter = TokenTextSplitter.from_tiktoken_encoder(\n",
    "    chunk_size = 201,\n",
    "    chunk_overlap = 20\n",
    ")\n",
    "\n",
    "texts = text_splitter.split_text(text)\n",
    "\n",
    "docs = [Document(page_content=t) for t in texts]\n",
    "print(len(docs))\n"
   ]
  },
  {
   "cell_type": "code",
   "execution_count": 11,
   "metadata": {},
   "outputs": [
    {
     "name": "stderr",
     "output_type": "stream",
     "text": [
      "c:\\Users\\yug.patel\\Documents\\Yug_patel\\AI-Text-summarization\\Environment\\lib\\site-packages\\langchain_core\\_api\\deprecation.py:139: LangChainDeprecationWarning: The class `LLMChain` was deprecated in LangChain 0.1.17 and will be removed in 1.0. Use RunnableSequence, e.g., `prompt | llm` instead.\n",
      "  warn_deprecated(\n"
     ]
    },
    {
     "name": "stdout",
     "output_type": "stream",
     "text": [
      "\n",
      "\n",
      " split_docs:[Document(page_content='\\nRetrieval-Augmented Generation (RAG) is a powerful approach for question answering systems. \\nIt combines the strengths of retrieval-based and generation-based methods to provide accurate and informative answers. \\nRetrieval-Augmented Generation (RAG) is a powerful approach for question answering systems. \\nIt combirovide accurate and informative answers.Retrieval-Augmented Generation (RAG) is a powerful approach for question answering systems. \\nIt combine methods to provide accurate and informative answers.Retrieval-Augmented Generation (RAG) is a powerful approach for question answering systems. \\nIt combines the strengtive ansnswers.Retrieval-Augmented Generation (RAG) is a powerful approach for question answering systems. \\nIt combines the strengths of retrieval-based and genemative answers.Retrieval-Augmented Generation (RAG) is a powerful approach for question answering systems. \\nIt combines the strengths of retrieval-based'), Document(page_content=') is a powerful approach for question answering systems. \\nIt combines the strengths of retrieval-based and generation-based methods to provide accurate and informative answers.Retrieval-Augmented Generation (RAG) is a powerful approach for question answering systems. \\nIt combines the strengths of retrieval-based and generation-based methods to provide accurate and informative answers.')]\n",
      "\n",
      "\n"
     ]
    }
   ],
   "source": [
    "prompt_template = \"\"\"Write a concise summary in 90 words of the following:\n",
    "\"{text}\"\n",
    "CONCISE SUMMARY:\"\"\"\n",
    "prompt = PromptTemplate.from_template(prompt_template)\n",
    "\n",
    "# Define LLM chain\n",
    "llm = ChatOpenAI(temperature=0, model_name=\"gpt-4o\")\n",
    "llm_chain = LLMChain(llm=llm, prompt=prompt)\n",
    "print(f\"\\n\\n split_docs:{docs}\\n\\n\")\n",
    "# Define StuffDocumentsChain\n",
    "stuff_chain = StuffDocumentsChain(llm_chain=llm_chain, document_variable_name=\"text\")\n",
    "summary = stuff_chain.invoke(docs)[\"output_text\"]\n"
   ]
  },
  {
   "cell_type": "code",
   "execution_count": 12,
   "metadata": {},
   "outputs": [
    {
     "data": {
      "text/plain": [
       "'Retrieval-Augmented Generation (RAG) is an effective method for question answering systems, merging the advantages of both retrieval-based and generation-based techniques. This hybrid approach ensures the delivery of accurate and informative answers by leveraging the strengths of each method.'"
      ]
     },
     "execution_count": 12,
     "metadata": {},
     "output_type": "execute_result"
    }
   ],
   "source": [
    "summary\n"
   ]
  }
 ],
 "metadata": {
  "kernelspec": {
   "display_name": "Environment",
   "language": "python",
   "name": "python3"
  },
  "language_info": {
   "codemirror_mode": {
    "name": "ipython",
    "version": 3
   },
   "file_extension": ".py",
   "mimetype": "text/x-python",
   "name": "python",
   "nbconvert_exporter": "python",
   "pygments_lexer": "ipython3",
   "version": "3.9.0"
  }
 },
 "nbformat": 4,
 "nbformat_minor": 2
}
